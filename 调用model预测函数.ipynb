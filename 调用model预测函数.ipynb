{
  "nbformat": 4,
  "nbformat_minor": 0,
  "metadata": {
    "colab": {
      "provenance": [],
      "gpuType": "T4",
      "authorship_tag": "ABX9TyN1aK6S3n/Zpkw9Y4KeQs88",
      "include_colab_link": true
    },
    "kernelspec": {
      "name": "python3",
      "display_name": "Python 3"
    },
    "language_info": {
      "name": "python"
    },
    "accelerator": "GPU"
  },
  "cells": [
    {
      "cell_type": "markdown",
      "metadata": {
        "id": "view-in-github",
        "colab_type": "text"
      },
      "source": [
        "<a href=\"https://colab.research.google.com/github/xuang774/Deep-learning/blob/main/%E8%B0%83%E7%94%A8model%E9%A2%84%E6%B5%8B%E5%87%BD%E6%95%B0.ipynb\" target=\"_parent\"><img src=\"https://colab.research.google.com/assets/colab-badge.svg\" alt=\"Open In Colab\"/></a>"
      ]
    },
    {
      "cell_type": "code",
      "source": [
        "'''!git clone https://github.com/Wentao-Xu/IGMTF.git\n",
        "!cd IGMTF && tar -zxvf data.tar.gz && mkdir model\n",
        "%cd /content/IGMTF'''"
      ],
      "metadata": {
        "colab": {
          "base_uri": "https://localhost:8080/"
        },
        "id": "Z_m-nWzPLpEO",
        "outputId": "0ccc00f1-592b-4ec9-c2d7-2faf02a33a50"
      },
      "execution_count": 1,
      "outputs": [
        {
          "output_type": "stream",
          "name": "stdout",
          "text": [
            "Cloning into 'IGMTF'...\n",
            "remote: Enumerating objects: 35, done.\u001b[K\n",
            "remote: Total 35 (delta 0), reused 0 (delta 0), pack-reused 35 (from 1)\u001b[K\n",
            "Receiving objects: 100% (35/35), 45.31 MiB | 45.31 MiB/s, done.\n",
            "Resolving deltas: 100% (17/17), done.\n",
            "data/\n",
            "data/traffic.txt\n",
            "data/exchange_rate.txt\n",
            "data/electricity.txt\n",
            "/content/IGMTF\n"
          ]
        }
      ]
    },
    {
      "cell_type": "markdown",
      "source": [
        "Change:\n",
        "\n",
        "1.   learn 210行加上 weight_only = false\n",
        "2.   net.py第66行 sample_train_hidden =\n",
        "        train_hidden.to(device)[day_index, :, :]\n",
        "3.  learn.py 228 变成range(1)\n",
        "\n",
        "\n",
        "\n",
        "\n",
        "\n",
        "\n"
      ],
      "metadata": {
        "id": "mS7GbbRKL8jl"
      }
    },
    {
      "cell_type": "code",
      "source": [
        "import numpy as np\n",
        "import pandas as pd\n",
        "\n",
        "# 时间轴\n",
        "x = np.arange(1, 10000)\n",
        "\n",
        "# 8个设计好的独立可预测函数（无交叉依赖）\n",
        "f1 = 0.001 * x + np.sin(0.02 * x)            # 线性+低频波动\n",
        "f2 = np.sqrt(x)                              # 平滑增长\n",
        "f3 = np.log(x + 1)                           # 对数增长\n",
        "f4 = np.exp(-0.0005 * x)                     # 指数衰减\n",
        "f5 = np.sin(0.03 * x)                        # 周期性强\n",
        "f6 = np.cos(0.01 * x) * 0.5                  # 低幅余弦波\n",
        "f7 = 0.0005 * x ** 1.5                       # 加速增长\n",
        "f8 = np.sin(0.015 * x) + np.cos(0.007 * x)   # 混合正余弦波，复杂周期\n",
        "\n",
        "# 拼成 DataFrame (10000, 8)，无任何交叉项\n",
        "data = np.vstack([f1, f2, f3, f4, f5, f6, f7, f8]).T\n",
        "df = pd.DataFrame(data)\n",
        "\n",
        "# 保存训练数据：前10000个时间步\n",
        "df.to_csv('/content/synthetic_predictable_test_data.txt', index=False, header=False)\n"
      ],
      "metadata": {
        "id": "QoxZWmtMHsFS"
      },
      "execution_count": 4,
      "outputs": []
    },
    {
      "cell_type": "code",
      "source": [
        "# Example\n",
        "#!python learn.py --save ./model/model-exchange-3.pt --data ./content/synthetic_test_data.txt --num_nodes 8 --epoch 2 --horizon 3 --hidden_size 512 --batch_size 16 --k_day 10 --n_neighbor 10"
      ],
      "metadata": {
        "id": "P8aCX_TYYlWd"
      },
      "execution_count": null,
      "outputs": []
    },
    {
      "cell_type": "code",
      "source": [
        "!python learn.py --save ./model-synthetic.pt \\\n",
        "                --data /content/synthetic_predictable_test_data.txt \\\n",
        "                --num_nodes 8 \\\n",
        "                --epoch 100 \\\n",
        "                --horizon 1 \\\n",
        "                --hidden_size 512 \\\n",
        "                --batch_size 16 \\\n",
        "                --k_day 10 \\\n",
        "                --n_neighbor 10\n"
      ],
      "metadata": {
        "colab": {
          "base_uri": "https://localhost:8080/"
        },
        "id": "YQY6SlYsH-aS",
        "outputId": "3153c1c2-3d37-45ac-822d-abc79a1700cd"
      },
      "execution_count": 9,
      "outputs": [
        {
          "output_type": "stream",
          "name": "stdout",
          "text": [
            "[2025-03-23 14:59:04] - Namespace(device='cuda:0', data='/content/synthetic_predictable_test_data.txt', log_interval=2000, save='./model-synthetic.pt', optim='adam', L1Loss=1, normalize=2, num_nodes=8, seq_in_len=168, seq_out_len=1, horizon=1, batch_size=16, lr=0.0001, weight_decay=0.0001, clip=5, propalpha=0.05, tanhalpha=3, epochs=100, num_split=1, step_size=100, d_feat=7, hidden_size=512, num_gru_layer=1, k_day=10, n_neighbor=10, hidden_batch_size=128)\n",
            "[2025-03-23 14:59:04] - Number of model parameters is 3163137\n",
            "/usr/local/lib/python3.11/dist-packages/torch/nn/_reduction.py:51: UserWarning: size_average and reduce args will be deprecated, please use reduction='sum' instead.\n",
            "  warnings.warn(warning.format(ret))\n",
            "begin training\n",
            "/content/net.py:17: UserWarning: torch.sparse.SparseTensor(indices, values, shape, *, device=) is deprecated.  Please use torch.sparse_coo_tensor(indices, values, shape, dtype=, device=). (Triggered internally at /pytorch/torch/csrc/utils/tensor_new.cpp:644.)\n",
            "  return torch.sparse.FloatTensor(i, v * dv, s.size())\n",
            "[2025-03-23 14:59:20] - | end of epoch   1 | time: 15.46s | train_loss 1.8838 | valid rse 0.0199 | valid rae 0.0143 | valid corr  0.8982\n",
            "[2025-03-23 14:59:27] - test rse 0.0329 | test rae 0.0216 | test corr 0.8939\n",
            "[2025-03-23 14:59:41] - | end of epoch   2 | time: 14.94s | train_loss 0.4868 | valid rse 0.0101 | valid rae 0.0078 | valid corr  0.9510\n",
            "[2025-03-23 14:59:48] - test rse 0.0101 | test rae 0.0079 | test corr 0.9525\n",
            "[2025-03-23 15:00:02] - | end of epoch   3 | time: 14.93s | train_loss 0.3133 | valid rse 0.0067 | valid rae 0.0052 | valid corr  0.9690\n",
            "[2025-03-23 15:00:08] - test rse 0.0046 | test rae 0.0039 | test corr 0.9649\n",
            "[2025-03-23 15:00:25] - | end of epoch   4 | time: 16.49s | train_loss 0.2739 | valid rse 0.0248 | valid rae 0.0162 | valid corr  0.9824\n",
            "[2025-03-23 15:00:44] - | end of epoch   5 | time: 15.12s | train_loss 0.2642 | valid rse 0.0030 | valid rae 0.0015 | valid corr  0.9876\n",
            "[2025-03-23 15:00:50] - test rse 0.0065 | test rae 0.0037 | test corr 0.9776\n",
            "[2025-03-23 15:01:05] - | end of epoch   6 | time: 14.93s | train_loss 0.2827 | valid rse 0.0207 | valid rae 0.0133 | valid corr  0.9776\n",
            "[2025-03-23 15:01:23] - | end of epoch   7 | time: 14.92s | train_loss 0.2637 | valid rse 0.0023 | valid rae 0.0015 | valid corr  0.9886\n",
            "[2025-03-23 15:01:29] - test rse 0.0061 | test rae 0.0036 | test corr 0.9688\n",
            "[2025-03-23 15:01:44] - | end of epoch   8 | time: 14.98s | train_loss 0.2304 | valid rse 0.0051 | valid rae 0.0031 | valid corr  0.9921\n",
            "[2025-03-23 15:02:02] - | end of epoch   9 | time: 15.17s | train_loss 0.3415 | valid rse 0.0071 | valid rae 0.0050 | valid corr  0.9769\n",
            "[2025-03-23 15:02:20] - | end of epoch  10 | time: 14.98s | train_loss 0.2065 | valid rse 0.0196 | valid rae 0.0127 | valid corr  0.9914\n",
            "[2025-03-23 15:02:38] - | end of epoch  11 | time: 15.12s | train_loss 0.2458 | valid rse 0.0094 | valid rae 0.0058 | valid corr  0.9952\n",
            "[2025-03-23 15:02:56] - | end of epoch  12 | time: 14.96s | train_loss 0.1875 | valid rse 0.0034 | valid rae 0.0023 | valid corr  0.9725\n",
            "[2025-03-23 15:03:14] - | end of epoch  13 | time: 15.20s | train_loss 0.2097 | valid rse 0.0061 | valid rae 0.0038 | valid corr  0.9947\n",
            "[2025-03-23 15:03:32] - | end of epoch  14 | time: 14.96s | train_loss 0.1969 | valid rse 0.0093 | valid rae 0.0059 | valid corr  0.9967\n",
            "[2025-03-23 15:03:50] - | end of epoch  15 | time: 15.16s | train_loss 0.1564 | valid rse 0.0076 | valid rae 0.0053 | valid corr  0.9983\n",
            "[2025-03-23 15:04:08] - | end of epoch  16 | time: 14.93s | train_loss 0.1887 | valid rse 0.0056 | valid rae 0.0040 | valid corr  0.9986\n",
            "[2025-03-23 15:04:26] - | end of epoch  17 | time: 15.20s | train_loss 0.1999 | valid rse 0.0020 | valid rae 0.0015 | valid corr  0.9974\n",
            "[2025-03-23 15:04:32] - test rse 0.0031 | test rae 0.0019 | test corr 0.9940\n",
            "[2025-03-23 15:04:47] - | end of epoch  18 | time: 15.01s | train_loss 0.2352 | valid rse 0.0035 | valid rae 0.0030 | valid corr  0.9653\n",
            "[2025-03-23 15:05:05] - | end of epoch  19 | time: 14.94s | train_loss 0.1677 | valid rse 0.0041 | valid rae 0.0029 | valid corr  0.9975\n",
            "[2025-03-23 15:05:23] - | end of epoch  20 | time: 14.98s | train_loss 0.1697 | valid rse 0.0038 | valid rae 0.0027 | valid corr  0.9971\n",
            "[2025-03-23 15:05:41] - | end of epoch  21 | time: 14.97s | train_loss 0.1771 | valid rse 0.0070 | valid rae 0.0045 | valid corr  0.9969\n",
            "[2025-03-23 15:05:59] - | end of epoch  22 | time: 15.00s | train_loss 0.1851 | valid rse 0.0027 | valid rae 0.0019 | valid corr  0.9893\n",
            "[2025-03-23 15:06:20] - | end of epoch  23 | time: 15.81s | train_loss 0.1585 | valid rse 0.0071 | valid rae 0.0050 | valid corr  0.9982\n",
            "[2025-03-23 15:06:38] - | end of epoch  24 | time: 15.03s | train_loss 0.1655 | valid rse 0.0111 | valid rae 0.0071 | valid corr  0.9974\n",
            "[2025-03-23 15:06:57] - | end of epoch  25 | time: 15.89s | train_loss 0.2022 | valid rse 0.0062 | valid rae 0.0045 | valid corr  0.9928\n",
            "[2025-03-23 15:07:15] - | end of epoch  26 | time: 15.14s | train_loss 0.1638 | valid rse 0.0094 | valid rae 0.0060 | valid corr  0.9989\n",
            "[2025-03-23 15:07:34] - | end of epoch  27 | time: 15.44s | train_loss 0.1350 | valid rse 0.0011 | valid rae 0.0007 | valid corr  0.9993\n",
            "[2025-03-23 15:07:40] - test rse 0.0054 | test rae 0.0029 | test corr 0.9980\n",
            "[2025-03-23 15:07:56] - | end of epoch  28 | time: 15.76s | train_loss 0.1531 | valid rse 0.0091 | valid rae 0.0058 | valid corr  0.9990\n",
            "[2025-03-23 15:08:14] - | end of epoch  29 | time: 15.03s | train_loss 0.1575 | valid rse 0.0073 | valid rae 0.0051 | valid corr  0.9991\n",
            "[2025-03-23 15:08:32] - | end of epoch  30 | time: 15.04s | train_loss 0.1713 | valid rse 0.0174 | valid rae 0.0117 | valid corr  0.9986\n",
            "[2025-03-23 15:08:50] - | end of epoch  31 | time: 15.10s | train_loss 0.1767 | valid rse 0.0019 | valid rae 0.0014 | valid corr  0.9989\n",
            "[2025-03-23 15:09:08] - | end of epoch  32 | time: 15.10s | train_loss 0.1508 | valid rse 0.0040 | valid rae 0.0024 | valid corr  0.9974\n",
            "[2025-03-23 15:09:26] - | end of epoch  33 | time: 15.04s | train_loss 0.1299 | valid rse 0.0032 | valid rae 0.0019 | valid corr  0.9958\n",
            "[2025-03-23 15:09:44] - | end of epoch  34 | time: 14.99s | train_loss 0.1259 | valid rse 0.0048 | valid rae 0.0029 | valid corr  0.9992\n",
            "[2025-03-23 15:10:02] - | end of epoch  35 | time: 15.04s | train_loss 0.1477 | valid rse 0.0173 | valid rae 0.0116 | valid corr  0.9974\n",
            "[2025-03-23 15:10:21] - | end of epoch  36 | time: 15.00s | train_loss 0.1588 | valid rse 0.0046 | valid rae 0.0033 | valid corr  0.9983\n",
            "[2025-03-23 15:10:38] - | end of epoch  37 | time: 14.95s | train_loss 0.1149 | valid rse 0.0059 | valid rae 0.0037 | valid corr  0.9983\n",
            "[2025-03-23 15:10:57] - | end of epoch  38 | time: 15.00s | train_loss 0.1044 | valid rse 0.0097 | valid rae 0.0062 | valid corr  0.9988\n",
            "[2025-03-23 15:11:15] - | end of epoch  39 | time: 15.05s | train_loss 0.1258 | valid rse 0.0050 | valid rae 0.0031 | valid corr  0.9991\n",
            "[2025-03-23 15:11:33] - | end of epoch  40 | time: 15.02s | train_loss 0.1111 | valid rse 0.0054 | valid rae 0.0033 | valid corr  0.9992\n",
            "[2025-03-23 15:11:51] - | end of epoch  41 | time: 14.99s | train_loss 0.1193 | valid rse 0.0101 | valid rae 0.0063 | valid corr  0.9992\n",
            "[2025-03-23 15:12:09] - | end of epoch  42 | time: 15.03s | train_loss 0.1569 | valid rse 0.0125 | valid rae 0.0080 | valid corr  0.9993\n",
            "[2025-03-23 15:12:28] - | end of epoch  43 | time: 16.61s | train_loss 0.1318 | valid rse 0.0021 | valid rae 0.0016 | valid corr  0.9995\n",
            "[2025-03-23 15:12:47] - | end of epoch  44 | time: 15.67s | train_loss 0.1229 | valid rse 0.0062 | valid rae 0.0039 | valid corr  0.9998\n",
            "[2025-03-23 15:13:05] - | end of epoch  45 | time: 15.03s | train_loss 0.0958 | valid rse 0.0060 | valid rae 0.0037 | valid corr  0.9989\n",
            "[2025-03-23 15:13:24] - | end of epoch  46 | time: 15.34s | train_loss 0.1296 | valid rse 0.0036 | valid rae 0.0026 | valid corr  0.9991\n",
            "[2025-03-23 15:13:42] - | end of epoch  47 | time: 15.00s | train_loss 0.1297 | valid rse 0.0021 | valid rae 0.0011 | valid corr  0.9996\n",
            "[2025-03-23 15:14:00] - | end of epoch  48 | time: 15.00s | train_loss 0.1023 | valid rse 0.0031 | valid rae 0.0024 | valid corr  0.9987\n",
            "[2025-03-23 15:14:18] - | end of epoch  49 | time: 15.06s | train_loss 0.1272 | valid rse 0.0093 | valid rae 0.0065 | valid corr  0.9972\n",
            "[2025-03-23 15:14:36] - | end of epoch  50 | time: 14.99s | train_loss 0.1369 | valid rse 0.0087 | valid rae 0.0054 | valid corr  0.9997\n",
            "[2025-03-23 15:14:54] - | end of epoch  51 | time: 15.04s | train_loss 0.1292 | valid rse 0.0025 | valid rae 0.0019 | valid corr  0.9983\n",
            "[2025-03-23 15:15:12] - | end of epoch  52 | time: 15.02s | train_loss 0.1192 | valid rse 0.0033 | valid rae 0.0019 | valid corr  0.9996\n",
            "[2025-03-23 15:15:30] - | end of epoch  53 | time: 15.04s | train_loss 0.1248 | valid rse 0.0053 | valid rae 0.0036 | valid corr  0.9889\n",
            "[2025-03-23 15:15:48] - | end of epoch  54 | time: 14.99s | train_loss 0.1188 | valid rse 0.0063 | valid rae 0.0038 | valid corr  0.9993\n",
            "[2025-03-23 15:16:09] - | end of epoch  55 | time: 17.49s | train_loss 0.1379 | valid rse 0.0044 | valid rae 0.0032 | valid corr  0.9992\n",
            "[2025-03-23 15:16:27] - | end of epoch  56 | time: 15.16s | train_loss 0.1288 | valid rse 0.0037 | valid rae 0.0022 | valid corr  0.9998\n",
            "[2025-03-23 15:16:47] - | end of epoch  57 | time: 16.81s | train_loss 0.1372 | valid rse 0.0101 | valid rae 0.0065 | valid corr  0.9997\n",
            "[2025-03-23 15:17:05] - | end of epoch  58 | time: 15.00s | train_loss 0.1135 | valid rse 0.0017 | valid rae 0.0009 | valid corr  0.9993\n",
            "[2025-03-23 15:17:23] - | end of epoch  59 | time: 15.22s | train_loss 0.1162 | valid rse 0.0013 | valid rae 0.0010 | valid corr  0.9997\n",
            "[2025-03-23 15:17:41] - | end of epoch  60 | time: 14.98s | train_loss 0.1147 | valid rse 0.0074 | valid rae 0.0048 | valid corr  0.9998\n",
            "[2025-03-23 15:17:59] - | end of epoch  61 | time: 15.19s | train_loss 0.1649 | valid rse 0.0088 | valid rae 0.0056 | valid corr  0.9997\n",
            "[2025-03-23 15:18:17] - | end of epoch  62 | time: 15.18s | train_loss 0.0957 | valid rse 0.0100 | valid rae 0.0070 | valid corr  0.9899\n",
            "[2025-03-23 15:18:35] - | end of epoch  63 | time: 15.18s | train_loss 0.1185 | valid rse 0.0037 | valid rae 0.0028 | valid corr  0.9979\n",
            "[2025-03-23 15:18:53] - | end of epoch  64 | time: 14.99s | train_loss 0.1109 | valid rse 0.0073 | valid rae 0.0046 | valid corr  0.9982\n",
            "[2025-03-23 15:19:11] - | end of epoch  65 | time: 15.15s | train_loss 0.1179 | valid rse 0.0086 | valid rae 0.0054 | valid corr  0.9994\n",
            "[2025-03-23 15:19:29] - | end of epoch  66 | time: 15.03s | train_loss 0.0980 | valid rse 0.0037 | valid rae 0.0021 | valid corr  0.9996\n",
            "[2025-03-23 15:19:47] - | end of epoch  67 | time: 15.27s | train_loss 0.1154 | valid rse 0.0038 | valid rae 0.0023 | valid corr  0.9997\n",
            "[2025-03-23 15:20:06] - | end of epoch  68 | time: 15.74s | train_loss 0.1015 | valid rse 0.0009 | valid rae 0.0007 | valid corr  0.9997\n",
            "[2025-03-23 15:20:12] - test rse 0.0034 | test rae 0.0020 | test corr 0.9993\n",
            "[2025-03-23 15:20:28] - | end of epoch  69 | time: 15.75s | train_loss 0.1057 | valid rse 0.0071 | valid rae 0.0045 | valid corr  0.9996\n",
            "[2025-03-23 15:20:46] - | end of epoch  70 | time: 15.04s | train_loss 0.0960 | valid rse 0.0042 | valid rae 0.0025 | valid corr  0.9983\n",
            "[2025-03-23 15:21:05] - | end of epoch  71 | time: 15.51s | train_loss 0.0887 | valid rse 0.0021 | valid rae 0.0012 | valid corr  0.9987\n",
            "[2025-03-23 15:21:23] - | end of epoch  72 | time: 15.09s | train_loss 0.1287 | valid rse 0.0019 | valid rae 0.0010 | valid corr  0.9996\n",
            "[2025-03-23 15:21:41] - | end of epoch  73 | time: 15.04s | train_loss 0.1000 | valid rse 0.0012 | valid rae 0.0007 | valid corr  0.9996\n",
            "[2025-03-23 15:21:59] - | end of epoch  74 | time: 15.08s | train_loss 0.1198 | valid rse 0.0017 | valid rae 0.0010 | valid corr  0.9994\n",
            "[2025-03-23 15:22:18] - | end of epoch  75 | time: 15.41s | train_loss 0.0979 | valid rse 0.0102 | valid rae 0.0064 | valid corr  0.9999\n",
            "[2025-03-23 15:22:36] - | end of epoch  76 | time: 15.05s | train_loss 0.1424 | valid rse 0.0020 | valid rae 0.0010 | valid corr  0.9997\n",
            "[2025-03-23 15:22:54] - | end of epoch  77 | time: 14.96s | train_loss 0.1013 | valid rse 0.0027 | valid rae 0.0014 | valid corr  0.9999\n",
            "[2025-03-23 15:23:12] - | end of epoch  78 | time: 15.04s | train_loss 0.1213 | valid rse 0.0055 | valid rae 0.0035 | valid corr  0.9996\n",
            "[2025-03-23 15:23:30] - | end of epoch  79 | time: 14.98s | train_loss 0.0972 | valid rse 0.0030 | valid rae 0.0017 | valid corr  0.9995\n",
            "[2025-03-23 15:23:48] - | end of epoch  80 | time: 15.02s | train_loss 0.1023 | valid rse 0.0051 | valid rae 0.0031 | valid corr  0.9996\n",
            "[2025-03-23 15:24:06] - | end of epoch  81 | time: 14.97s | train_loss 0.1198 | valid rse 0.0029 | valid rae 0.0021 | valid corr  0.9999\n",
            "[2025-03-23 15:24:24] - | end of epoch  82 | time: 15.03s | train_loss 0.0946 | valid rse 0.0023 | valid rae 0.0012 | valid corr  0.9995\n",
            "[2025-03-23 15:24:42] - | end of epoch  83 | time: 14.93s | train_loss 0.1013 | valid rse 0.0070 | valid rae 0.0043 | valid corr  0.9999\n",
            "[2025-03-23 15:25:00] - | end of epoch  84 | time: 15.00s | train_loss 0.1167 | valid rse 0.0031 | valid rae 0.0018 | valid corr  0.9991\n",
            "[2025-03-23 15:25:18] - | end of epoch  85 | time: 14.93s | train_loss 0.0916 | valid rse 0.0023 | valid rae 0.0012 | valid corr  0.9998\n",
            "[2025-03-23 15:25:36] - | end of epoch  86 | time: 14.94s | train_loss 0.1109 | valid rse 0.0091 | valid rae 0.0056 | valid corr  0.9998\n",
            "[2025-03-23 15:25:54] - | end of epoch  87 | time: 14.98s | train_loss 0.0923 | valid rse 0.0055 | valid rae 0.0034 | valid corr  0.9998\n",
            "[2025-03-23 15:26:12] - | end of epoch  88 | time: 14.97s | train_loss 0.1061 | valid rse 0.0019 | valid rae 0.0014 | valid corr  0.9998\n",
            "[2025-03-23 15:26:30] - | end of epoch  89 | time: 14.98s | train_loss 0.1128 | valid rse 0.0038 | valid rae 0.0029 | valid corr  0.9998\n",
            "[2025-03-23 15:26:48] - | end of epoch  90 | time: 15.00s | train_loss 0.0921 | valid rse 0.0068 | valid rae 0.0041 | valid corr  0.9997\n",
            "[2025-03-23 15:27:06] - | end of epoch  91 | time: 14.94s | train_loss 0.0938 | valid rse 0.0042 | valid rae 0.0025 | valid corr  0.9999\n",
            "[2025-03-23 15:27:24] - | end of epoch  92 | time: 14.97s | train_loss 0.0982 | valid rse 0.0073 | valid rae 0.0051 | valid corr  0.9999\n",
            "[2025-03-23 15:27:42] - | end of epoch  93 | time: 14.96s | train_loss 0.0865 | valid rse 0.0090 | valid rae 0.0057 | valid corr  0.9999\n",
            "[2025-03-23 15:28:00] - | end of epoch  94 | time: 14.96s | train_loss 0.1125 | valid rse 0.0049 | valid rae 0.0029 | valid corr  0.9999\n",
            "[2025-03-23 15:28:18] - | end of epoch  95 | time: 14.95s | train_loss 0.0847 | valid rse 0.0020 | valid rae 0.0016 | valid corr  0.9999\n",
            "[2025-03-23 15:28:36] - | end of epoch  96 | time: 14.97s | train_loss 0.0875 | valid rse 0.0098 | valid rae 0.0062 | valid corr  0.9999\n",
            "[2025-03-23 15:28:54] - | end of epoch  97 | time: 14.97s | train_loss 0.0986 | valid rse 0.0040 | valid rae 0.0023 | valid corr  0.9999\n",
            "[2025-03-23 15:29:12] - | end of epoch  98 | time: 14.96s | train_loss 0.1131 | valid rse 0.0083 | valid rae 0.0051 | valid corr  0.9999\n",
            "[2025-03-23 15:29:30] - | end of epoch  99 | time: 14.98s | train_loss 0.0980 | valid rse 0.0040 | valid rae 0.0022 | valid corr  0.9999\n",
            "[2025-03-23 15:29:48] - | end of epoch 100 | time: 14.95s | train_loss 0.1068 | valid rse 0.0028 | valid rae 0.0021 | valid corr  0.9999\n",
            "[2025-03-23 15:29:58] - final test rse 0.0034 | test rae 0.0020 | test corr 0.9993\n",
            "[2025-03-23 15:29:58] - \n",
            "\n",
            "\n",
            "[2025-03-23 15:29:58] - 10 runs average\n",
            "[2025-03-23 15:29:58] - \n",
            "\n",
            "\n",
            "[2025-03-23 15:29:58] - valid\trse\trae\tcorr\n",
            "[2025-03-23 15:29:58] - mean\t0.0009\t0.0007\t0.9997\n",
            "[2025-03-23 15:29:58] - std\t0.0000\t0.0000\t0.0000\n",
            "[2025-03-23 15:29:58] - \n",
            "\n",
            "\n",
            "[2025-03-23 15:29:58] - test\trse\trae\tcorr\n",
            "[2025-03-23 15:29:58] - mean\t0.0034\t0.0020\t0.9993\n",
            "[2025-03-23 15:29:58] - std\t0.0000\t0.0000\t0.0000\n"
          ]
        }
      ]
    }
  ]
}